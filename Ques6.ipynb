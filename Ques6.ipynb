{
  "nbformat": 4,
  "nbformat_minor": 0,
  "metadata": {
    "colab": {
      "provenance": [],
      "authorship_tag": "ABX9TyONENSMulBXznGLfWmbmAiz",
      "include_colab_link": true
    },
    "kernelspec": {
      "name": "python3",
      "display_name": "Python 3"
    },
    "language_info": {
      "name": "python"
    }
  },
  "cells": [
    {
      "cell_type": "markdown",
      "metadata": {
        "id": "view-in-github",
        "colab_type": "text"
      },
      "source": [
        "<a href=\"https://colab.research.google.com/github/BhavikPrajapati18/DS_PRAC/blob/main/Ques6.ipynb\" target=\"_parent\"><img src=\"https://colab.research.google.com/assets/colab-badge.svg\" alt=\"Open In Colab\"/></a>"
      ]
    },
    {
      "cell_type": "markdown",
      "source": [
        "Data Preprocessing from CSV"
      ],
      "metadata": {
        "id": "OkzF9qMdJUBJ"
      }
    },
    {
      "cell_type": "code",
      "execution_count": 1,
      "metadata": {
        "id": "kNOcmgKKvs30",
        "colab": {
          "base_uri": "https://localhost:8080/"
        },
        "outputId": "3ae931ed-72e3-4395-be36-db9366d70292"
      },
      "outputs": [
        {
          "output_type": "stream",
          "name": "stderr",
          "text": [
            "<ipython-input-1-d302f6c6f9fd>:15: FutureWarning: A value is trying to be set on a copy of a DataFrame or Series through chained assignment using an inplace method.\n",
            "The behavior will change in pandas 3.0. This inplace method will never work because the intermediate object on which we are setting values always behaves as a copy.\n",
            "\n",
            "For example, when doing 'df[col].method(value, inplace=True)', try using 'df.method({col: value}, inplace=True)' or df[col] = df[col].method(value) instead, to perform the operation inplace on the original object.\n",
            "\n",
            "\n",
            "  df['Salary'].fillna(df['Salary'].mean(), inplace=True)  # Fill NaN with mean\n"
          ]
        },
        {
          "output_type": "stream",
          "name": "stdout",
          "text": [
            "Cleaned Data:\n",
            "   Country  Age        Salary Purchased\n",
            "0   France   44  72000.000000        No\n",
            "1    Spain   27  48000.000000       Yes\n",
            "2  Germany   30  54000.000000        No\n",
            "3    Spain   38  61000.000000        No\n",
            "4  Germany   40  63777.777778       Yes\n",
            "5   France   35  58000.000000       Yes\n",
            "6    Spain   52  52000.000000        No\n",
            "7   France   48  79000.000000       Yes\n",
            "8  Germany   50  83000.000000        No\n",
            "9   France   37  67000.000000       Yes\n"
          ]
        }
      ],
      "source": [
        "import pandas as pd\n",
        "import numpy as np\n",
        "\n",
        "# Step 1: Create the data\n",
        "data = {\n",
        "    'Country': ['France', 'Spain', 'Germany', 'Spain', 'Germany', 'France', 'Spain', 'France', 'Germany', 'France'],\n",
        "    'Age': [44, 27, 30, 38, 40, 35, 52, 48, 50, 37],\n",
        "    'Salary': [72000, 48000, 54000, 61000, np.nan, 58000, 52000, 79000, 83000, 67000],\n",
        "    'Purchased': ['No', 'Yes', 'No', 'No', 'Yes', 'Yes', 'No', 'Yes', 'No', 'Yes']\n",
        "}\n",
        "\n",
        "df = pd.DataFrame(data)\n",
        "\n",
        "# Step 2: Handle Missing Values\n",
        "df['Salary'].fillna(df['Salary'].mean(), inplace=True)  # Fill NaN with mean\n",
        "\n",
        "# Step 3: Handle Outliers (Optional - simple Z-score method)\n",
        "from scipy import stats\n",
        "z_scores = np.abs(stats.zscore(df[['Age', 'Salary']]))\n",
        "df = df[(z_scores < 3).all(axis=1)]  # Remove outliers beyond Z=3\n",
        "\n",
        "# Step 4: Display cleaned data\n",
        "print(\"Cleaned Data:\")\n",
        "print(df)\n"
      ]
    },
    {
      "cell_type": "markdown",
      "source": [
        "Multiple Linear Regression – House Price Prediction"
      ],
      "metadata": {
        "id": "Uf6nJsDHJczS"
      }
    },
    {
      "cell_type": "code",
      "source": [
        "from sklearn.linear_model import LinearRegression\n",
        "from sklearn.model_selection import train_test_split\n",
        "from sklearn.metrics import r2_score, mean_squared_error, mean_absolute_error\n",
        "\n",
        "# Step 1: Create the dataset\n",
        "data = {\n",
        "    'Bedrooms': [3,3,2,3,4,3,2,3,3,2],\n",
        "    'Bathrooms': [1,2.25,1,1,2.5,1,1.5,1,2,2.5],\n",
        "    'Sqft_living': [1180, 2570, 770, 1680, 5420, 1715, 1060, 1780, 1890, 3560],\n",
        "    'Floors': [1, 2, 1, 1, 1, 2, 1, 2, 2, 1],\n",
        "    'Grade': [7, 7, 6, 8, 9, 7, 7, 7, 7, 10],\n",
        "    'Sqft_above': [1180, 2170, 770, 1680, 3890, 1715, 1050, 1780, 1890, 1860],\n",
        "    'Sqft_basement': [0, 400, 0, 0, 1530, 0, 10, 0, 0, 1700],\n",
        "    'Price': [221900, 538000, 180000, 604000, 667000, 257500, 291850, 510000, 229000, 662500]\n",
        "}\n",
        "\n",
        "df2 = pd.DataFrame(data)\n",
        "\n",
        "# Step 2: Features and Target\n",
        "X = df2.drop('Price', axis=1)\n",
        "y = df2['Price']\n",
        "\n",
        "# Step 3: Train-Test Split\n",
        "X_train, X_test, y_train, y_test = train_test_split(X, y, test_size=0.2, random_state=42)\n",
        "\n",
        "# Step 4: Train Model\n",
        "model = LinearRegression()\n",
        "model.fit(X_train, y_train)\n",
        "\n",
        "# Step 5: Predict and Evaluate\n",
        "y_pred = model.predict(X_test)\n",
        "\n",
        "print(\"R2 Score:\", r2_score(y_test, y_pred))\n",
        "print(\"Mean Absolute Error:\", mean_absolute_error(y_test, y_pred))\n",
        "print(\"Mean Squared Error:\", mean_squared_error(y_test, y_pred))\n"
      ],
      "metadata": {
        "colab": {
          "base_uri": "https://localhost:8080/"
        },
        "id": "XfFqVW2zLR-m",
        "outputId": "9786cf3a-d9f9-4108-9900-9da5481d0d54"
      },
      "execution_count": 2,
      "outputs": [
        {
          "output_type": "stream",
          "name": "stdout",
          "text": [
            "R2 Score: -5.3034068561801355\n",
            "Mean Absolute Error: 352538.67063027964\n",
            "Mean Squared Error: 150463897508.7339\n"
          ]
        }
      ]
    },
    {
      "cell_type": "markdown",
      "source": [
        "# New section"
      ],
      "metadata": {
        "id": "5mHriNIqv9fz"
      }
    }
  ]
}