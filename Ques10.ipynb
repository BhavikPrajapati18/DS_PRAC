{
  "nbformat": 4,
  "nbformat_minor": 0,
  "metadata": {
    "colab": {
      "provenance": [],
      "authorship_tag": "ABX9TyNDkiswuY/OdDSFgRcuW0AP",
      "include_colab_link": true
    },
    "kernelspec": {
      "name": "python3",
      "display_name": "Python 3"
    },
    "language_info": {
      "name": "python"
    }
  },
  "cells": [
    {
      "cell_type": "markdown",
      "metadata": {
        "id": "view-in-github",
        "colab_type": "text"
      },
      "source": [
        "<a href=\"https://colab.research.google.com/github/BhavikPrajapati18/DS_PRAC/blob/main/Ques10.ipynb\" target=\"_parent\"><img src=\"https://colab.research.google.com/assets/colab-badge.svg\" alt=\"Open In Colab\"/></a>"
      ]
    },
    {
      "cell_type": "markdown",
      "source": [
        "Convert Categorical Columns to Numerical – Feature Dummification (One-Hot Encoding)"
      ],
      "metadata": {
        "id": "OkzF9qMdJUBJ"
      }
    },
    {
      "cell_type": "code",
      "execution_count": 10,
      "metadata": {
        "id": "kNOcmgKKvs30",
        "colab": {
          "base_uri": "https://localhost:8080/"
        },
        "outputId": "fd0dd48a-073a-4572-f573-f799526ca84f"
      },
      "outputs": [
        {
          "output_type": "stream",
          "name": "stdout",
          "text": [
            "   Age  Salary  Country_Germany  Country_Spain  Purchased_Yes\n",
            "0   44   72000            False          False          False\n",
            "1   27   48000            False           True           True\n",
            "2   30   54000             True          False          False\n",
            "3   38   61000            False           True          False\n",
            "4   40   80500             True          False           True\n",
            "5   35   58000            False          False           True\n",
            "6   52   52000            False           True          False\n",
            "7   48   79000            False          False           True\n",
            "8   50   83000             True          False          False\n",
            "9   37   67000            False          False           True\n"
          ]
        }
      ],
      "source": [
        "import pandas as pd\n",
        "\n",
        "# Original Data\n",
        "data = {\n",
        "    'Country': ['France', 'Spain', 'Germany', 'Spain', 'Germany', 'France', 'Spain', 'France', 'Germany', 'France'],\n",
        "    'Age': [44, 27, 30, 38, 40, 35, 52, 48, 50, 37],\n",
        "    'Salary': [72000, 48000, 54000, 61000, 80500, 58000, 52000, 79000, 83000, 67000],\n",
        "    'Purchased': ['No', 'Yes', 'No', 'No', 'Yes', 'Yes', 'No', 'Yes', 'No', 'Yes']\n",
        "}\n",
        "\n",
        "df = pd.DataFrame(data)\n",
        "\n",
        "# Feature Dummification using get_dummies\n",
        "df_encoded = pd.get_dummies(df, columns=['Country', 'Purchased'], drop_first=True)\n",
        "\n",
        "# Display result\n",
        "print(df_encoded)\n"
      ]
    },
    {
      "cell_type": "markdown",
      "source": [
        "Logistic Regression on the Iris Dataset (Binary Classification)"
      ],
      "metadata": {
        "id": "BnQeB0DMXtUi"
      }
    },
    {
      "cell_type": "code",
      "source": [
        "import pandas as pd\n",
        "from sklearn.datasets import load_iris\n",
        "from sklearn.linear_model import LogisticRegression\n",
        "from sklearn.model_selection import train_test_split\n",
        "from sklearn.metrics import accuracy_score, classification_report, confusion_matrix\n",
        "\n",
        "# Load Iris dataset\n",
        "iris = load_iris()\n",
        "X = iris.data\n",
        "y = (iris.target == 0).astype(int)  # Binary: 1 if Setosa, else 0\n",
        "\n",
        "# Split\n",
        "X_train, X_test, y_train, y_test = train_test_split(X, y, test_size=0.2, random_state=0)\n",
        "\n",
        "# Model\n",
        "model = LogisticRegression()\n",
        "model.fit(X_train, y_train)\n",
        "\n",
        "# Predict\n",
        "y_pred = model.predict(X_test)\n",
        "\n",
        "# Evaluate\n",
        "print(\"Accuracy:\", accuracy_score(y_test, y_pred))\n",
        "print(\"Classification Report:\\n\", classification_report(y_test, y_pred))\n",
        "print(\"Confusion Matrix:\\n\", confusion_matrix(y_test, y_pred))\n"
      ],
      "metadata": {
        "colab": {
          "base_uri": "https://localhost:8080/"
        },
        "id": "c3bhJROwXuQK",
        "outputId": "0f0b8255-83a6-462d-afc5-a4f44bdfdcd3"
      },
      "execution_count": 11,
      "outputs": [
        {
          "output_type": "stream",
          "name": "stdout",
          "text": [
            "Accuracy: 1.0\n",
            "Classification Report:\n",
            "               precision    recall  f1-score   support\n",
            "\n",
            "           0       1.00      1.00      1.00        19\n",
            "           1       1.00      1.00      1.00        11\n",
            "\n",
            "    accuracy                           1.00        30\n",
            "   macro avg       1.00      1.00      1.00        30\n",
            "weighted avg       1.00      1.00      1.00        30\n",
            "\n",
            "Confusion Matrix:\n",
            " [[19  0]\n",
            " [ 0 11]]\n"
          ]
        }
      ]
    }
  ]
}