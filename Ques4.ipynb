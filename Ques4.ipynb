{
  "nbformat": 4,
  "nbformat_minor": 0,
  "metadata": {
    "colab": {
      "provenance": [],
      "authorship_tag": "ABX9TyOafJnxAkCnIrLtvgH+N5Rm",
      "include_colab_link": true
    },
    "kernelspec": {
      "name": "python3",
      "display_name": "Python 3"
    },
    "language_info": {
      "name": "python"
    }
  },
  "cells": [
    {
      "cell_type": "markdown",
      "metadata": {
        "id": "view-in-github",
        "colab_type": "text"
      },
      "source": [
        "<a href=\"https://colab.research.google.com/github/BhavikPrajapati18/DS_PRAC/blob/main/Ques4.ipynb\" target=\"_parent\"><img src=\"https://colab.research.google.com/assets/colab-badge.svg\" alt=\"Open In Colab\"/></a>"
      ]
    },
    {
      "cell_type": "markdown",
      "source": [
        "**Consider a scenario where you have test scores from a sample of students\n",
        "and you want to compare the mean of these scores with hypothesized\n",
        "population mean.**\n",
        "Student Score = [72, 88, 64, 74, 67, 79, 85, 75, 89,77]\n",
        "**Apply One Sampled T-Test using Python/R for above problem. Assume\n",
        "hypothesized mean as 70. Formulate Null and Alternative Hypothesis for\n",
        "a given problem. Interpret the results and draw the conclusion.**"
      ],
      "metadata": {
        "id": "OkzF9qMdJUBJ"
      }
    },
    {
      "cell_type": "code",
      "execution_count": 6,
      "metadata": {
        "id": "kNOcmgKKvs30",
        "colab": {
          "base_uri": "https://localhost:8080/"
        },
        "outputId": "9353893d-a949-44fb-a8b6-52d99ed4726b"
      },
      "outputs": [
        {
          "output_type": "stream",
          "name": "stdout",
          "text": [
            "T-Statistic: 2.6250\n",
            "P-Value: 0.0276\n",
            "Reject Null Hypothesis: There is a significant difference from the population mean.\n"
          ]
        }
      ],
      "source": [
        "from scipy import stats\n",
        "\n",
        "scores = [72, 88, 64, 74, 67, 79, 85, 75, 89, 77]\n",
        "\n",
        "mu = 70\n",
        "\n",
        "t_stat, p_value = stats.ttest_1samp(scores, mu)\n",
        "\n",
        "print(f\"T-Statistic: {t_stat:.4f}\")\n",
        "print(f\"P-Value: {p_value:.4f}\")\n",
        "\n",
        "alpha = 0.05\n",
        "if p_value < alpha:\n",
        "    print(\"Reject Null Hypothesis: There is a significant difference from the population mean.\")\n",
        "else:\n",
        "    print(\"Fail to Reject Null Hypothesis: No significant difference from the population mean.\")\n"
      ]
    },
    {
      "cell_type": "markdown",
      "source": [
        "**Apply Feature Scaling technique like standardization and\n",
        "normalization using Python/R to Boston Housing dataset.**"
      ],
      "metadata": {
        "id": "Uf6nJsDHJczS"
      }
    },
    {
      "cell_type": "code",
      "source": [
        "import pandas as pd\n",
        "from sklearn.datasets import fetch_california_housing\n",
        "from sklearn.preprocessing import StandardScaler, MinMaxScaler\n",
        "\n",
        "housing = fetch_california_housing()\n",
        "X = pd.DataFrame(housing.data, columns=housing.feature_names)\n",
        "\n",
        "scaler_standard = StandardScaler()\n",
        "X_standardized = scaler_standard.fit_transform(X)\n",
        "df_standardized = pd.DataFrame(X_standardized, columns=housing.feature_names)\n",
        "\n",
        "scaler_minmax = MinMaxScaler()\n",
        "X_normalized = scaler_minmax.fit_transform(X)\n",
        "df_normalized = pd.DataFrame(X_normalized, columns=housing.feature_names)\n",
        "\n",
        "print(\"\\n--- Standardized Data (Z-score) ---\")\n",
        "print(df_standardized.head())\n",
        "\n",
        "print(\"\\n--- Normalized Data (Min-Max) ---\")\n",
        "print(df_normalized.head())\n"
      ],
      "metadata": {
        "colab": {
          "base_uri": "https://localhost:8080/"
        },
        "id": "iPYLzZd_JcSy",
        "outputId": "4d86cd52-6e73-43f5-cf21-e9f0489ce459"
      },
      "execution_count": 8,
      "outputs": [
        {
          "output_type": "stream",
          "name": "stdout",
          "text": [
            "\n",
            "--- Standardized Data (Z-score) ---\n",
            "     MedInc  HouseAge  AveRooms  AveBedrms  Population  AveOccup  Latitude  \\\n",
            "0  2.344766  0.982143  0.628559  -0.153758   -0.974429 -0.049597  1.052548   \n",
            "1  2.332238 -0.607019  0.327041  -0.263336    0.861439 -0.092512  1.043185   \n",
            "2  1.782699  1.856182  1.155620  -0.049016   -0.820777 -0.025843  1.038503   \n",
            "3  0.932968  1.856182  0.156966  -0.049833   -0.766028 -0.050329  1.038503   \n",
            "4 -0.012881  1.856182  0.344711  -0.032906   -0.759847 -0.085616  1.038503   \n",
            "\n",
            "   Longitude  \n",
            "0  -1.327835  \n",
            "1  -1.322844  \n",
            "2  -1.332827  \n",
            "3  -1.337818  \n",
            "4  -1.337818  \n",
            "\n",
            "--- Normalized Data (Min-Max) ---\n",
            "     MedInc  HouseAge  AveRooms  AveBedrms  Population  AveOccup  Latitude  \\\n",
            "0  0.539668  0.784314  0.043512   0.020469    0.008941  0.001499  0.567481   \n",
            "1  0.538027  0.392157  0.038224   0.018929    0.067210  0.001141  0.565356   \n",
            "2  0.466028  1.000000  0.052756   0.021940    0.013818  0.001698  0.564293   \n",
            "3  0.354699  1.000000  0.035241   0.021929    0.015555  0.001493  0.564293   \n",
            "4  0.230776  1.000000  0.038534   0.022166    0.015752  0.001198  0.564293   \n",
            "\n",
            "   Longitude  \n",
            "0   0.211155  \n",
            "1   0.212151  \n",
            "2   0.210159  \n",
            "3   0.209163  \n",
            "4   0.209163  \n"
          ]
        }
      ]
    },
    {
      "cell_type": "markdown",
      "source": [
        "# New section"
      ],
      "metadata": {
        "id": "5mHriNIqv9fz"
      }
    }
  ]
}